{
 "cells": [
  {
   "cell_type": "markdown",
   "metadata": {},
   "source": [
    "#### Test image"
   ]
  },
  {
   "cell_type": "markdown",
   "metadata": {},
   "source": [
    "![Alt text](./Thai_Plate/1.jpg \"Test Image\")"
   ]
  },
  {
   "cell_type": "markdown",
   "metadata": {},
   "source": [
    "##### Tesseract"
   ]
  },
  {
   "cell_type": "code",
   "execution_count": 5,
   "metadata": {},
   "outputs": [
    {
     "name": "stderr",
     "output_type": "stream",
     "text": [
      "'DOSKEY' is not recognized as an internal or external command,\n",
      "operable program or batch file.\n"
     ]
    }
   ],
   "source": [
    "# Tesseract\n",
    "!tesseract -l tha --dpi 2400 ./Thai-plate/1.jpg ./Thai-plate/Tesseract"
   ]
  },
  {
   "cell_type": "markdown",
   "metadata": {},
   "source": [
    "Not any shit was printed"
   ]
  },
  {
   "cell_type": "markdown",
   "metadata": {},
   "source": [
    "##### EasyOCR"
   ]
  },
  {
   "cell_type": "code",
   "execution_count": null,
   "metadata": {},
   "outputs": [],
   "source": [
    "%pip install easyocr"
   ]
  },
  {
   "cell_type": "code",
   "execution_count": 6,
   "metadata": {},
   "outputs": [
    {
     "name": "stderr",
     "output_type": "stream",
     "text": [
      "Neither CUDA nor MPS are available - defaulting to CPU. Note: This module is much faster with a GPU.\n"
     ]
    },
    {
     "name": "stdout",
     "output_type": "stream",
     "text": [
      "[([[126, 166], [179, 166], [179, 322], [126, 322]], 'อู้', 0.5129716102710591), ([[212, 182], [484, 182], [484, 263], [212, 263]], 'กน 5244|', 0.5608549535464095), ([[288, 262], [414, 262], [414, 310], [288, 310]], 'เชียงราย', 0.9995681375871748), ([[388, 305], [493, 305], [493, 326], [388, 326]], ' chiangrai united', 0.5606636224898016)]\n"
     ]
    }
   ],
   "source": [
    "import easyocr\n",
    "reader = easyocr.Reader(['th','en']) # this needs to run only once to load the model into memory\n",
    "result = reader.readtext('Thai-Plate/1.jpg')\n",
    "print(result)"
   ]
  },
  {
   "cell_type": "markdown",
   "metadata": {},
   "source": [
    "7กญ3603\n",
    "กรงเทพมหานคร\n",
    "Surprisingly good ⭐⭐⭐"
   ]
  },
  {
   "cell_type": "markdown",
   "metadata": {},
   "source": [
    "![Alt text](./Thai_Plate/3.jpg \"Defect 1\")"
   ]
  },
  {
   "cell_type": "markdown",
   "metadata": {},
   "source": [
    "### The Problem\n",
    "It appears that the owner of that car intentionally put stickers over plate's number to hide the real one. The problem is that when we used EasyOCR, the reader detected as [\"กญ\", \"33\"] separately. This can be solved by check whether or not each element are align in the same row. However, I thinks that it can be put aside because it is not algorithm's fault and I personally thinks that it's not a big problem to solve."
   ]
  },
  {
   "cell_type": "markdown",
   "metadata": {},
   "source": [
    "![Alt text](./Thai_Plate/4.jpg \"Defect 2\")"
   ]
  },
  {
   "cell_type": "markdown",
   "metadata": {},
   "source": [
    "### More problem\n",
    "This problem occurs because the image that used to do OCR is too small, so I added threshold. In the right plate, human's eyes can read it as \"ฎง 8108\". However, that is not a big problem because the province part is too small to read anyway. In the left plate, It read as \"3ก11 2462\". This one can cause by too small image, and too much noise reduction."
   ]
  }
 ],
 "metadata": {
  "kernelspec": {
   "display_name": "LicensePlateEnv",
   "language": "python",
   "name": "python3"
  },
  "language_info": {
   "codemirror_mode": {
    "name": "ipython",
    "version": 3
   },
   "file_extension": ".py",
   "mimetype": "text/x-python",
   "name": "python",
   "nbconvert_exporter": "python",
   "pygments_lexer": "ipython3",
   "version": "3.12.4"
  }
 },
 "nbformat": 4,
 "nbformat_minor": 2
}
